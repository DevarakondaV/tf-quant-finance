{
  "cells": [
    {
      "cell_type": "markdown",
      "metadata": {
        "colab_type": "text",
        "id": "EheA5_j_cEwc"
      },
      "source": [
        "##### Copyright 2019 Google LLC.\n",
        "\n",
        "Licensed under the Apache License, Version 2.0 (the \"License\");"
      ]
    },
    {
      "cell_type": "code",
      "execution_count": 0,
      "metadata": {
        "colab": {},
        "colab_type": "code",
        "id": "YCriMWd-pRTP"
      },
      "outputs": [],
      "source": [
        "#@title Licensed under the Apache License, Version 2.0 (the \"License\"); { display-mode: \"form\" }\n",
        "# you may not use this file except in compliance with the License.\n",
        "# You may obtain a copy of the License at\n",
        "#\n",
        "# https://www.apache.org/licenses/LICENSE-2.0\n",
        "#\n",
        "# Unless required by applicable law or agreed to in writing, software\n",
        "# distributed under the License is distributed on an \"AS IS\" BASIS,\n",
        "# WITHOUT WARRANTIES OR CONDITIONS OF ANY KIND, either express or implied.\n",
        "# See the License for the specific language governing permissions and\n",
        "# limitations under the License."
      ]
    },
    {
      "cell_type": "markdown",
      "metadata": {
        "colab_type": "text",
        "id": "OvRwFTkqcp1e"
      },
      "source": [
        "# Monte Carlo Pricing in Tensorflow Quant Finance (TFF) using Euler Scheme\n",
        "\n",
        "\u003ctable class=\"tfo-notebook-buttons\" align=\"left\"\u003e\n",
        "  \u003ctd\u003e\n",
        "    \u003ca target=\"_blank\" href=\"https://colab.research.google.com/github/google/tf-quant-finance/blob/master/tf_quant_finance/examples/jupyter_notebooks/Monte_Carlo_Euler_Scheme.ipynb\"\u003e\u003cimg src=\"https://www.tensorflow.org/images/colab_logo_32px.png\" /\u003eRun in Google Colab\u003c/a\u003e\n",
        "  \u003c/td\u003e\n",
        "  \u003ctd\u003e\n",
        "    \u003ca target=\"_blank\" href=\"https://github.com/google/tf-quant-finance/blob/master/tf_quant_finance/examples/jupyter_notebooks/Monte_Carlo_Euler_Scheme.ipynb\"\u003e\u003cimg src=\"https://www.tensorflow.org/images/GitHub-Mark-32px.png\" /\u003eView source on GitHub\u003c/a\u003e\n",
        "  \u003c/td\u003e\n",
        "\u003c/table\u003e"
      ]
    },
    {
      "cell_type": "code",
      "execution_count": 0,
      "metadata": {
        "cellView": "both",
        "colab": {},
        "colab_type": "code",
        "id": "uG8UAZXjeUhf",
        "jupyter": {
          "outputs_hidden": true
        }
      },
      "outputs": [],
      "source": [
        "#@title Upgrade to TensorFlow nightly\n",
        "!pip install --upgrade tf-nightly"
      ]
    },
    {
      "cell_type": "code",
      "execution_count": 0,
      "metadata": {
        "cellView": "both",
        "colab": {},
        "colab_type": "code",
        "id": "QxMuce0vVKaL",
        "jupyter": {
          "outputs_hidden": true
        }
      },
      "outputs": [],
      "source": [
        "#@title Install TF Quant Finance\n",
        "!pip install tff-nightly"
      ]
    },
    {
      "cell_type": "code",
      "execution_count": 0,
      "metadata": {
        "cellView": "both",
        "colab": {},
        "colab_type": "code",
        "id": "roUegEh5eh04",
        "jupyter": {
          "outputs_hidden": true
        }
      },
      "outputs": [],
      "source": [
        "#@title Install QuantLib\n",
        "!pip install QuantLib-Python"
      ]
    },
    {
      "cell_type": "markdown",
      "metadata": {
        "colab_type": "text",
        "id": "jmBwHJQZPdj-"
      },
      "source": [
        "[AI Platform Notebooks](https://cloud.google.com/ai-platform-notebooks) instance was used to produce the precomputed results:\n",
        " - VM with 8 vCPUs (n1-standard-8) for the CPU results;\n",
        " - TESLA v100 for the GPU results."
      ]
    },
    {
      "cell_type": "markdown",
      "metadata": {
        "colab_type": "text",
        "id": "ku46LPe6Jswv"
      },
      "source": [
        "   Diffusion process $X(t) = (X_1(t), .. X_n(t))$ is a solution to a [Stochastic Differential Equation](https://en.wikipedia.org/wiki/Stochastic_differential_equation) (SDE)\n",
        "   $$dS_i = a_i(t, S) dt + \\sum_{j=1}^n S_{ij} (t, S) dW_j,\\ i \\in \\{1,.., n\\},$$\n",
        "\n",
        "where $n$ is the dimensionality of the diffusion, $\\{W_j\\}_{j=1}^n$ is $n$-dimensitonal Brownian motion, $a_i(t, S)$ is the instantaneous drift rate and the $S_{ij}(t)$ is the\n",
        "volatility matrix.\n",
        "\n",
        "In this colab we demonstrate how to draw samples from the difusion solution in TFF using the [Euler scheme](https://en.wikipedia.org/wiki/Euler%E2%80%93Maruyama_method). We also demonstrate how to use automatic differentiation framework for vega and delta computation and provide performance benchmarks.\n"
      ]
    },
    {
      "cell_type": "code",
      "execution_count": 0,
      "metadata": {
        "colab": {},
        "colab_type": "code",
        "id": "2nA2FSdTgcEM"
      },
      "outputs": [],
      "source": [
        "#@title Imports { display-mode: \"form\" }\n",
        "\n",
        "import matplotlib.pyplot as plt\n",
        "import numpy as np\n",
        "import time\n",
        "\n",
        "import tensorflow as tf\n",
        "\n",
        "import QuantLib as ql\n",
        "\n",
        " # tff for Tensorflow Finance\n",
        "import tf_quant_finance as tff\n",
        "\n",
        "from IPython.core.pylabtools import figsize\n",
        "figsize(21, 14) # better graph size for Colab  \n"
      ]
    },
    {
      "cell_type": "markdown",
      "metadata": {
        "colab_type": "text",
        "id": "DaCP0d8mV_Yp"
      },
      "source": [
        "## Setting up the Euler sampling for European call option pricing under Black-Scholes\n",
        "\n",
        "The pricing function outputs prices on the grid `expiries x strikes`.\n",
        "\n",
        "Sampling is performed using `sample_paths` method of `GenericItoProcess` class. The user is free to provide their own drift and volatility function in order to sample from the desired process.\n",
        "\n",
        "For many processes there exist efficient spexialized samplers and the user should feel free to explore the TFF [models module](https://github.com/google/tf-quant-finance/tree/master/tf_quant_finance/models).\n",
        "\n",
        "In this example, however, we consider only `GenericItoProcess`.\n",
        "\n"
      ]
    },
    {
      "cell_type": "code",
      "execution_count": 0,
      "metadata": {
        "cellView": "both",
        "colab": {},
        "colab_type": "code",
        "id": "WRYk-nfL_QQj"
      },
      "outputs": [],
      "source": [
        "#@title Set up parameters\n",
        "\n",
        "dtype = np.float64 #@param\n",
        "num_samples = 200000 #@param\n",
        "\n",
        "num_timesteps = 100 #@param\n",
        "\n",
        "expiries = [1.0] # This can be a rank 1 Tensor\n",
        "dt = 1. / num_timesteps\n",
        "rate = tf.constant(0.03, dtype=dtype)\n",
        "sigma = tf.constant(0.1, dtype=dtype)\n",
        "spot = tf.constant(700, dtype=dtype)\n",
        "\n",
        "strikes = tf.constant([600, 650, 680], dtype=dtype)\n",
        "\n",
        "def set_up_pricer(expiries, watch_params=False):\n",
        "    \"\"\"Set up European option pricing function under Balck-Scholes model.\n",
        "    \n",
        "    Args:\n",
        "        expiries: List of expiries at which to to sample the trajectories.\n",
        "        watch_params: A Python bool. When `True`, gradients of the price function wrt the inputs\n",
        "          are computed more efficiently. \n",
        "    Returns:\n",
        "     A callable that accepts a rank 1 tensor of strikes, and scalar values for \n",
        "     the spots and  volatility values. The callable outputs prices of\n",
        "     the European call options on the grid `expiries x strikes`.\n",
        "    \"\"\"\n",
        "    def price_eu_options(strikes, spot, sigma):\n",
        "        # Define drift and volatility functions. \n",
        "        def drift_fn(t, x):\n",
        "          del t, x\n",
        "          return rate - 0.5 * sigma**2\n",
        "        def vol_fn(t, x):\n",
        "          del t, x\n",
        "          return tf.reshape(sigma, [1, 1])\n",
        "        # Use GenericItoProcess class to set up the Ito process\n",
        "        process = tff.models.GenericItoProcess(\n",
        "            dim=1,\n",
        "            drift_fn=drift_fn,\n",
        "            volatility_fn=vol_fn,\n",
        "            dtype=dtype)\n",
        "        log_spot = tf.math.log(tf.reduce_mean(spot))\n",
        "        if watch_params:\n",
        "            watch_params_list = [sigma]\n",
        "        else:\n",
        "            watch_params_list = None\n",
        "        paths = process.sample_paths(\n",
        "            expiries, num_samples=num_samples,\n",
        "            initial_state=log_spot, \n",
        "            watch_params=watch_params_list,\n",
        "            # Select a random number generator\n",
        "            random_type=tff.math.random.RandomType.PSEUDO_ANTITHETIC,\n",
        "            time_step=0.01)\n",
        "        prices = (tf.exp(-tf.expand_dims(rate * expiries, axis=-1))\n",
        "                  * tf.reduce_mean(tf.nn.relu(tf.math.exp(paths) - strikes), 0))\n",
        "        return prices\n",
        "    return price_eu_options\n",
        "\n",
        "price_eu_options = tf.function(set_up_pricer(expiries))\n"
      ]
    },
    {
      "cell_type": "code",
      "execution_count": 0,
      "metadata": {
        "cellView": "both",
        "colab": {
          "height": 35
        },
        "colab_type": "code",
        "executionInfo": {
          "elapsed": 2490,
          "status": "ok",
          "timestamp": 1590952262936,
          "user": {
            "displayName": "",
            "photoUrl": "",
            "userId": ""
          },
          "user_tz": -60
        },
        "id": "LAzzV5Da_QQm",
        "outputId": "86230946-dd13-463d-8fd5-df3d427d7967"
      },
      "outputs": [
        {
          "name": "stdout",
          "output_type": "stream",
          "text": [
            "Time (seconds) to price a European Call Option on a CPU:  0.7251081466674805\n"
          ]
        }
      ],
      "source": [
        "#@title Pricing time a CPU. Note TensorFlow does automatic multithreading.\n",
        "\n",
        "# First run (includes graph optimization time)\n",
        "with tf.device(\"/cpu:0\"):\n",
        "    price_eu_options(strikes, spot, sigma)\n",
        "\n",
        "# Second run (excludes graph optimization time)\n",
        "time_start = time.time()\n",
        "with tf.device(\"/cpu:0\"):\n",
        "    prices = price_eu_options(strikes, spot, sigma)\n",
        "time_end = time.time()\n",
        "\n",
        "time_price_cpu = time_end - time_start\n",
        "print(\"Time (seconds) to price a European Call Option on a CPU: \", time_price_cpu)"
      ]
    },
    {
      "cell_type": "markdown",
      "metadata": {
        "colab_type": "text",
        "id": "1AXfFFtYPdkK"
      },
      "source": [
        "### Better performance with XLA\n",
        "\n",
        "A quick guide on XLA is available on [TensorFlow website](https://www.tensorflow.org/xla).\n",
        "Roughly, XLA compiler generates a binary for the desired architecture (CPU/GPU/TPU). When underlying TF graph consists of\n",
        "many nodes, XLA might provide a significant speed up.\n",
        "\n",
        "Below we use `tf.xla.experimental.compile` to indicate that the whole Monte Carlo graph should be XLA-compiled."
      ]
    },
    {
      "cell_type": "code",
      "execution_count": 0,
      "metadata": {
        "colab": {},
        "colab_type": "code",
        "id": "y65_Lj6jPdkK"
      },
      "outputs": [],
      "source": [
        "@tf.function\n",
        "def price_eu_options_xla(strikes, spot, sigma):\n",
        "    return tf.xla.experimental.compile(price_eu_options, [strikes, spot, sigma])[0]"
      ]
    },
    {
      "cell_type": "code",
      "execution_count": 0,
      "metadata": {
        "colab": {},
        "colab_type": "code",
        "id": "EwrwdkWhPdkN",
        "outputId": "36beaeb8-070c-4e44-aa8b-91fbba2d0fbe"
      },
      "outputs": [
        {
          "name": "stdout",
          "output_type": "stream",
          "text": [
            "Time (seconds) to price a European Call Option on a CPU with XLA:  0.49646496772766113\n"
          ]
        }
      ],
      "source": [
        "#@title Pricing times on a CPU with XLA compilation\n",
        "\n",
        "# First run (includes graph optimization time)\n",
        "with tf.device(\"/cpu:0\"):\n",
        "    price_eu_options_xla(strikes, spot, sigma)\n",
        "\n",
        "# Second run (excludes graph optimization time)\n",
        "time_start = time.time()\n",
        "with tf.device(\"/cpu:0\"):\n",
        "    prices = price_eu_options_xla(strikes, spot, sigma)\n",
        "time_end = time.time()\n",
        "\n",
        "time_price_cpu_xla = time_end - time_start\n",
        "print(\"Time (seconds) to price a European Call Option on a CPU with XLA: \", time_price_cpu_xla)"
      ]
    },
    {
      "cell_type": "markdown",
      "metadata": {
        "colab_type": "text",
        "id": "IXZnDEV-PdkR"
      },
      "source": [
        "### For the reference we provide performance of the Monte Carlo pricer in QuantLib"
      ]
    },
    {
      "cell_type": "code",
      "execution_count": 0,
      "metadata": {
        "cellView": "both",
        "colab": {
          "height": 35
        },
        "colab_type": "code",
        "executionInfo": {
          "elapsed": 18855,
          "status": "ok",
          "timestamp": 1590952364710,
          "user": {
            "displayName": "",
            "photoUrl": "",
            "userId": ""
          },
          "user_tz": -60
        },
        "id": "C1Rjiwe9_QQp",
        "outputId": "400fda20-d97f-4718-9b20-a4b67a2849f3"
      },
      "outputs": [
        {
          "name": "stdout",
          "output_type": "stream",
          "text": [
            "Time (seconds) to price a European Call Option using QuantLib:  13.961992025375366\n"
          ]
        }
      ],
      "source": [
        "#@title Monte Carlo sampling in QuantLib\n",
        "\n",
        "num_samples = 200000 #@param\n",
        "\n",
        "num_timesteps = 100 #@param\n",
        "\n",
        "expiry = 1.0\n",
        "\n",
        "calculation_date = ql.Date(1, 1, 2010)\n",
        "maturity_date = ql.Date(1, 1, 2011)\n",
        "day_count = ql.Thirty360()\n",
        "calendar = ql.NullCalendar()\n",
        "\n",
        "ql_strike_price = 550\n",
        "sigma_ql = 0.1\n",
        "ql_volatility = ql.SimpleQuote(sigma_ql)\n",
        "ql_risk_free_rate = 0.03\n",
        "option_type = ql.Option.Call\n",
        "\n",
        "ql.Settings.instance().evaluationDate = calculation_date\n",
        "payoff = ql.PlainVanillaPayoff(option_type, ql_strike_price)\n",
        "\n",
        "eu_exercise = ql.EuropeanExercise(maturity_date)\n",
        "european_option_ql = ql.VanillaOption(payoff, eu_exercise)\n",
        "\n",
        "flat_ts = ql.YieldTermStructureHandle(\n",
        "    ql.FlatForward(calculation_date, ql_risk_free_rate, day_count)\n",
        ")\n",
        "flat_vol_ts = ql.BlackVolTermStructureHandle(\n",
        "    ql.BlackConstantVol(calculation_date, calendar,\n",
        "                        ql.QuoteHandle(ql_volatility), day_count)\n",
        ")\n",
        "\n",
        "spot_ql = 700\n",
        "spot_price = ql.SimpleQuote(spot_ql)\n",
        "spot_handle = ql.QuoteHandle(\n",
        "    spot_price\n",
        ")\n",
        "bsm_process = ql.BlackScholesProcess(spot_handle,\n",
        "                                      flat_ts,\n",
        "                                      flat_vol_ts)\n",
        "\n",
        "# Compute the same price number_of_options times\n",
        "\n",
        "engine = ql.MCEuropeanEngine(bsm_process, \"PseudoRandom\",\n",
        "                             timeSteps=num_timesteps,\n",
        "                             requiredSamples=num_samples,\n",
        "                             seed=42)\n",
        "\n",
        "european_option_ql.setPricingEngine(engine)\n",
        "# Price\n",
        "t = time.time()\n",
        "price_ql = european_option_ql.NPV()\n",
        "time_price_ql = time.time() - t\n",
        "print(\"Time (seconds) to price a European Call Option using QuantLib: \", time_price_ql)\n"
      ]
    },
    {
      "cell_type": "code",
      "execution_count": 0,
      "metadata": {
        "cellView": "both",
        "colab": {
          "height": 553
        },
        "colab_type": "code",
        "executionInfo": {
          "elapsed": 227,
          "status": "ok",
          "timestamp": 1590952389127,
          "user": {
            "displayName": "",
            "photoUrl": "",
            "userId": ""
          },
          "user_tz": -60
        },
        "id": "V2ms9TA7_QQr",
        "outputId": "a5e5af72-9d33-4cf1-fddf-7c91459801b9"
      },
      "outputs": [
        {
          "data": {
            "image/png": "[encoded data removed]",
            "text/plain": [
              "\u003cFigure size 864x648 with 1 Axes\u003e"
            ]
          },
          "metadata": {
            "needs_background": "light",
            "tags": []
          },
          "output_type": "display_data"
        }
      ],
      "source": [
        "#@title Plot the results\n",
        "\n",
        "ind = np.arange(1)  # the x locations for the groups\n",
        "width = 0.35  # the width of the bars\n",
        "\n",
        "fig, ax = plt.subplots()\n",
        "\n",
        "fig.set_figheight(9)\n",
        "fig.set_figwidth(12)\n",
        "\n",
        "ax.bar(ind - width/2, [time_price_cpu], width,\n",
        "       label='TensorFlow (CPU)', color='darkorange')\n",
        "ax.bar(ind + width/2, [time_price_ql], width,\n",
        "       label='QuantLib')\n",
        "\n",
        "# Add some text for labels, title and custom x-axis tick labels, etc.\n",
        "ax.set_ylabel('Time (sec) to sample {}'.format(num_samples))\n",
        "ax.set_title('Monte Carlo sampling comparison')\n",
        "ax.set_xticks(ind)\n",
        "ax.legend()\n",
        "\n",
        "\n",
        "plt.show()"
      ]
    },
    {
      "cell_type": "markdown",
      "metadata": {
        "colab_type": "text",
        "id": "o6E1tQK5PdkX"
      },
      "source": [
        "# GPU vs CPU performace\n",
        "\n",
        "Above one can see that TF effectively applies multithreading to achieve the best possible CPU performance. If the user has access to a good GPU, additional boost can be achieved as demonstrated below.\n",
        "\n",
        "For this specific model XLA provides significant speedup for both CPU and GPU\n",
        "platforms.\n",
        "\n",
        "Tesla V100 provides 100x speed up compared to a cloud CPU with 8 logical cores\n",
        "(`n1-standard-8` machine type on Google Cloud Platform)."
      ]
    },
    {
      "cell_type": "code",
      "execution_count": 0,
      "metadata": {
        "colab": {},
        "colab_type": "code",
        "id": "9z78R5OtPdkX"
      },
      "outputs": [],
      "source": [
        "#@title Pricing times on CPU and GPU platforms\n",
        "\n",
        "# CPU without XLA\n",
        "with tf.device(\"/cpu:0\"):\n",
        "    price_eu_options(strikes, spot, sigma)\n",
        "time_start = time.time()\n",
        "with tf.device(\"/cpu:0\"):\n",
        "    prices = price_eu_options(strikes, spot, sigma)\n",
        "time_end = time.time()\n",
        "time_price_cpu = time_end - time_start\n",
        "\n",
        "# CPU with XLA\n",
        "with tf.device(\"/cpu:0\"):\n",
        "    price_eu_options_xla(strikes, spot, sigma)\n",
        "time_start = time.time()\n",
        "with tf.device(\"/cpu:0\"):\n",
        "    prices = price_eu_options_xla(strikes, spot, sigma)\n",
        "time_end = time.time()\n",
        "time_price_cpu_xla = time_end - time_start\n",
        "\n",
        "# GPU without XLA\n",
        "with tf.device(\"/gpu:0\"):\n",
        "    price_eu_options(strikes, spot, sigma)\n",
        "# Second run (excludes graph optimization time)\n",
        "time_start = time.time()\n",
        "with tf.device(\"/gpu:0\"):\n",
        "    prices = price_eu_options(strikes, spot, sigma)\n",
        "time_end = time.time()\n",
        "time_price_gpu = time_end - time_start\n",
        "\n",
        "# GPU with XLA\n",
        "with tf.device(\"/gpu:0\"):\n",
        "    price_eu_options_xla(strikes, spot, sigma)\n",
        "# Second run (excludes graph optimization time)\n",
        "time_start = time.time()\n",
        "with tf.device(\"/gpu:0\"):\n",
        "    prices = price_eu_options_xla(strikes, spot, sigma)\n",
        "time_end = time.time()\n",
        "time_price_gpu_xla = time_end - time_start\n"
      ]
    },
    {
      "cell_type": "code",
      "execution_count": 0,
      "metadata": {
        "colab": {},
        "colab_type": "code",
        "id": "1tzvzqRMPdka",
        "outputId": "c21e2583-93d6-4ff3-bac2-14f070121c72"
      },
      "outputs": [
        {
          "data": {
            "image/png": "[encoded data removed]",
            "text/plain": [
              "\u003cFigure size 864x648 with 1 Axes\u003e"
            ]
          },
          "metadata": {
            "needs_background": "light",
            "tags": []
          },
          "output_type": "display_data"
        }
      ],
      "source": [
        "#@title Plot the results\n",
        "\n",
        "ind = np.arange(1)  # the x locations for the groups\n",
        "width = 0.35  # the width of the bars\n",
        "\n",
        "fig, ax = plt.subplots()\n",
        "\n",
        "fig.set_figheight(9)\n",
        "fig.set_figwidth(12)\n",
        "\n",
        "ax.bar(ind - width/8, [time_price_cpu], width / 8,\n",
        "       label='TensorFlow (CPU)')\n",
        "ax.bar(ind, [time_price_cpu_xla], width / 8,\n",
        "       label='TensorFlow (CPU XLA)')\n",
        "ax.bar(ind + width/8, [time_price_gpu], width / 8,\n",
        "       label='TensorFlow (GPU)')\n",
        "ax.bar(ind + width/4, [time_price_gpu_xla], width / 8,\n",
        "       label='TensorFlow (GPU XLA)')\n",
        "\n",
        "# Add some text for labels, title and custom x-axis tick labels, etc.\n",
        "ax.set_ylabel('Time (sec) to sample {}'.format(num_samples))\n",
        "ax.set_title('Monte Carlo sampling comparison')\n",
        "ax.set_xticks(ind)\n",
        "ax.legend()\n",
        "\n",
        "\n",
        "plt.show()"
      ]
    },
    {
      "cell_type": "markdown",
      "metadata": {
        "colab_type": "text",
        "id": "NpdgpaosPdkc"
      },
      "source": [
        "# Greek computation \n",
        "\n",
        "TF provides framework for automatic differentiation. Below we demostrate how to compute vega and delta for the European call options and compare the estimated results ti the true values."
      ]
    },
    {
      "cell_type": "code",
      "execution_count": 0,
      "metadata": {
        "colab": {},
        "colab_type": "code",
        "id": "YDmea-ACPdkd"
      },
      "outputs": [],
      "source": [
        "# Set up the pricer\n",
        "expiries = [0.5, 1.0]\n",
        "strikes = tf.constant([600, 650, 680], dtype=dtype)\n",
        "sigma = tf.constant(0.1, dtype=dtype)\n",
        "price_eu_options = set_up_pricer(expiries, watch_params=True)"
      ]
    },
    {
      "cell_type": "code",
      "execution_count": 0,
      "metadata": {
        "colab": {},
        "colab_type": "code",
        "id": "r1WQJM-KPdkf"
      },
      "outputs": [],
      "source": [
        "price_eu_options_no_watched_params = set_up_pricer(expiries)\n",
        "@tf.function\n",
        "def price_eu_options_xla(strikes, spot, sigma):\n",
        "    return tf.xla.experimental.compile(price_eu_options_no_watched_params, [strikes, spot, sigma])[0]\n",
        "\n",
        "@tf.function\n",
        "def vega_fn(sigma):\n",
        "    fn = lambda sigma: price_eu_options(strikes, spot, sigma)\n",
        "    return tff.math.fwd_gradient(fn, sigma,\n",
        "                                 use_gradient_tape=True)\n",
        "\n",
        "@tf.function\n",
        "def vega_fn_xla(sigma):\n",
        "    return tf.xla.experimental.compile(vega_fn, [sigma])[0]\n",
        "\n",
        "@tf.function\n",
        "def delta_fn(spot):\n",
        "    fn = lambda spot: price_eu_options(strikes, spot, sigma)\n",
        "    return tff.math.fwd_gradient(fn, spot,\n",
        "                                 use_gradient_tape=True)\n",
        "\n",
        "@tf.function\n",
        "def delta_fn_xla(spot):\n",
        "    return tf.xla.experimental.compile(delta_fn, [spot])[0]"
      ]
    },
    {
      "cell_type": "code",
      "execution_count": 0,
      "metadata": {
        "colab": {},
        "colab_type": "code",
        "id": "JfUgriuUPdkh",
        "outputId": "558ae2a1-e327-4796-e96a-066a33b194b0"
      },
      "outputs": [
        {
          "name": "stdout",
          "output_type": "stream",
          "text": [
            "Estimated deltas on grid expiries x strikes: \n",
            " [[0.99261198 0.90206849 0.74314943]\n",
            " [0.97092704 0.86167377 0.73855538]]\n"
          ]
        }
      ],
      "source": [
        "estimated_deltas = delta_fn_xla(spot)\n",
        "print(\"Estimated deltas on grid expiries x strikes: \\n\", estimated_deltas.numpy())"
      ]
    },
    {
      "cell_type": "code",
      "execution_count": 0,
      "metadata": {
        "colab": {},
        "colab_type": "code",
        "id": "2TnariSOPdkk",
        "outputId": "648ba9fb-26cd-4f63-857b-ea8c87aee70c"
      },
      "outputs": [
        {
          "name": "stdout",
          "output_type": "stream",
          "text": [
            "Estimated vegas on grid expiries x strikes: \n",
            " [[ 10.14514534  84.91014855 159.05150223]\n",
            " [ 46.10421667 153.30542885 226.52587355]]\n"
          ]
        }
      ],
      "source": [
        "estimated_vegas = vega_fn_xla(sigma)\n",
        "print(\"Estimated vegas on grid expiries x strikes: \\n\", estimated_vegas.numpy())"
      ]
    },
    {
      "cell_type": "code",
      "execution_count": 0,
      "metadata": {
        "colab": {},
        "colab_type": "code",
        "id": "8Ke8hsu7Pdkm"
      },
      "outputs": [],
      "source": [
        "expiries_tensor = tf.expand_dims(tf.convert_to_tensor(expiries, dtype=dtype), axis=1)\n",
        "true_delta_fn = lambda spot : tff.black_scholes.option_price(volatilities=sigma,\n",
        "                                                             strikes=strikes,\n",
        "                                                             spots=spot,\n",
        "                                                             expiries=expiries_tensor,\n",
        "                                                             discount_rates=rate)\n",
        "true_vega_fn = lambda sigma : tff.black_scholes.option_price(volatilities=sigma,\n",
        "                               strikes=strikes,\n",
        "                               spots=spot,\n",
        "                               expiries=expiries_tensor,\n",
        "                               discount_rates=rate)"
      ]
    },
    {
      "cell_type": "code",
      "execution_count": 0,
      "metadata": {
        "colab": {},
        "colab_type": "code",
        "id": "2TNBEHxZPdko",
        "outputId": "72d4c80b-1e0a-4c26-8455-60e8628b6352"
      },
      "outputs": [
        {
          "name": "stdout",
          "output_type": "stream",
          "text": [
            "True deltas on grid expiries x strikes: \n",
            " [[0.99239851 0.90243168 0.74454875]\n",
            " [0.97072164 0.8623811  0.73887319]]\n",
            "True vegas on grid expiries x strikes: \n",
            " [[ 10.37265092  85.31635365 159.08825372]\n",
            " [ 46.67659297 153.994105   227.5617336 ]]\n"
          ]
        }
      ],
      "source": [
        "true_delta = tff.math.fwd_gradient(true_delta_fn, spot)\n",
        "true_vega = tff.math.fwd_gradient(true_vega_fn, sigma)\n",
        "print(\"True deltas on grid expiries x strikes: \\n\", true_delta.numpy())\n",
        "print(\"True vegas on grid expiries x strikes: \\n\", true_vega.numpy())"
      ]
    },
    {
      "cell_type": "code",
      "execution_count": 0,
      "metadata": {
        "colab": {},
        "colab_type": "code",
        "id": "qKTyD12zPdkq",
        "outputId": "4222d34d-bf6e-4e91-d91a-996a239a90eb"
      },
      "outputs": [
        {
          "name": "stdout",
          "output_type": "stream",
          "text": [
            "Relative error in delta estimation: \n",
            " 0.0018794212785965606\n",
            "Relative error in vega estimation: \n",
            " 0.021933214176308745\n"
          ]
        }
      ],
      "source": [
        "print(\"Relative error in delta estimation: \\n\", np.max(abs(estimated_deltas - true_delta) / true_delta))\n",
        "print(\"Relative error in vega estimation: \\n\", np.max(abs(estimated_vegas - true_vega) / true_vega))\n"
      ]
    },
    {
      "cell_type": "code",
      "execution_count": 0,
      "metadata": {
        "colab": {},
        "colab_type": "code",
        "id": "VAq-N-F-Pdks"
      },
      "outputs": [],
      "source": [
        "#@title Greek computation speed\n",
        "\n",
        "# Price CPU with XLA\n",
        "with tf.device(\"/cpu:0\"):\n",
        "    price_eu_options_xla(strikes, spot, sigma)\n",
        "time_start = time.time()\n",
        "with tf.device(\"/cpu:0\"):\n",
        "    prices = price_eu_options_xla(strikes, spot, sigma)\n",
        "time_end = time.time()\n",
        "time_price_cpu = time_end - time_start\n",
        "\n",
        "# Delta CPU with XLA\n",
        "with tf.device(\"/cpu:0\"):\n",
        "    delta_fn_xla(spot)\n",
        "time_start = time.time()\n",
        "with tf.device(\"/cpu:0\"):\n",
        "    delta_fn_xla(spot)\n",
        "time_end = time.time()\n",
        "time_delta_cpu = time_end - time_start\n",
        "\n",
        "# Vega CPU with XLA\n",
        "with tf.device(\"/cpu:0\"):\n",
        "    vega_fn_xla(spot)\n",
        "time_start = time.time()\n",
        "with tf.device(\"/cpu:0\"):\n",
        "    vega_fn_xla(spot)\n",
        "time_end = time.time()\n",
        "time_vega_cpu = time_end - time_start\n",
        "\n",
        "# Price GPU with XLA\n",
        "with tf.device(\"/gpu:0\"):\n",
        "    price_eu_options_xla(strikes, spot, sigma)\n",
        "time_start = time.time()\n",
        "with tf.device(\"/gpu:0\"):\n",
        "    prices = price_eu_options_xla(strikes, spot, sigma)\n",
        "time_end = time.time()\n",
        "time_price_gpu = time_end - time_start\n",
        "\n",
        "# Delta GPU with XLA\n",
        "with tf.device(\"/gpu:0\"):\n",
        "    delta_fn_xla(spot)\n",
        "time_start = time.time()\n",
        "with tf.device(\"/gpu:0\"):\n",
        "    delta_fn_xla(spot)\n",
        "time_end = time.time()\n",
        "time_delta_gpu = time_end - time_start\n",
        "\n",
        "# Vega GPU with XLA\n",
        "with tf.device(\"/gpu:0\"):\n",
        "    vega_fn_xla(spot)\n",
        "time_start = time.time()\n",
        "with tf.device(\"/gpu:0\"):\n",
        "    vega_fn_xla(spot)\n",
        "time_end = time.time()\n",
        "time_vega_gpu = time_end - time_start"
      ]
    },
    {
      "cell_type": "code",
      "execution_count": 0,
      "metadata": {
        "colab": {},
        "colab_type": "code",
        "id": "VPAWot3lPdku",
        "outputId": "651f5afb-70d3-41b1-91cc-09a8812db63a"
      },
      "outputs": [
        {
          "data": {
            "image/png": "[encoded data removed]",
            "text/plain": [
              "\u003cFigure size 864x648 with 1 Axes\u003e"
            ]
          },
          "metadata": {
            "needs_background": "light",
            "tags": []
          },
          "output_type": "display_data"
        }
      ],
      "source": [
        "#@title CPU greeks computation speed\n",
        "\n",
        "ind = np.arange(1)  # the x locations for the groups\n",
        "width = 0.35  # the width of the bars\n",
        "\n",
        "fig, ax = plt.subplots()\n",
        "\n",
        "fig.set_figheight(9)\n",
        "fig.set_figwidth(12)\n",
        "\n",
        "ax.bar(ind - width/8, [time_price_cpu], width / 8,\n",
        "       label='Price time (CPU)')\n",
        "ax.bar(ind, [time_delta_cpu], width / 8,\n",
        "       label='Delta time (CPU)')\n",
        "ax.bar(ind + width/8, [time_vega_cpu], width / 8,\n",
        "       label='Vega time (CPU)')\n",
        "\n",
        "# Add some text for labels, title and custom x-axis tick labels, etc.\n",
        "ax.set_ylabel('Time (sec)')\n",
        "ax.set_title('Monte Carlo. Greeks computation on CPU')\n",
        "ax.set_xticks(ind)\n",
        "ax.legend()\n",
        "\n",
        "\n",
        "plt.show()"
      ]
    },
    {
      "cell_type": "code",
      "execution_count": 0,
      "metadata": {
        "colab": {},
        "colab_type": "code",
        "id": "Kjw6GvTmPdkx",
        "outputId": "06cd9ade-7972-4fe0-ec7e-dce46b4852e2"
      },
      "outputs": [
        {
          "data": {
            "image/png": "[encoded data removed]",
            "text/plain": [
              "\u003cFigure size 864x648 with 1 Axes\u003e"
            ]
          },
          "metadata": {
            "needs_background": "light",
            "tags": []
          },
          "output_type": "display_data"
        }
      ],
      "source": [
        "#@title GPU greeks computation speed\n",
        "\n",
        "ind = np.arange(1)  # the x locations for the groups\n",
        "width = 0.35  # the width of the bars\n",
        "\n",
        "fig, ax = plt.subplots()\n",
        "\n",
        "fig.set_figheight(9)\n",
        "fig.set_figwidth(12)\n",
        "\n",
        "ax.bar(ind - width/8, [time_price_gpu], width / 8,\n",
        "       label='Price time (GPU)')\n",
        "ax.bar(ind, [time_delta_gpu], width / 8,\n",
        "       label='Delta time (GPU)')\n",
        "ax.bar(ind + width/8, [time_vega_gpu], width / 8,\n",
        "       label='Vega time (GPU)')\n",
        "\n",
        "# Add some text for labels, title and custom x-axis tick labels, etc.\n",
        "ax.set_ylabel('Time (sec)')\n",
        "ax.set_title('Monte Carlo. Greeks computation on GPU')\n",
        "ax.set_xticks(ind)\n",
        "ax.legend()\n",
        "\n",
        "\n",
        "plt.show()"
      ]
    },
    {
      "cell_type": "code",
      "execution_count": 0,
      "metadata": {
        "colab": {},
        "colab_type": "code",
        "id": "W7_l_FWpgIHS"
      },
      "outputs": [],
      "source": [
        ""
      ]
    }
  ],
  "metadata": {
    "colab": {
      "collapsed_sections": [],
      "last_runtime": {
        "build_target": "",
        "kind": "local"
      },
      "name": "Monte_Carlo_Euler_Scheme.ipynb",
      "provenance": [
        {
          "file_id": "1rT50234_4wb5VFNWyheBfyVlV-iuRA0t",
          "timestamp": 1553699488325
        },
        {
          "file_id": "1G2Wm6NzpdH3gPFsFTaLslgonTTkI0U0h",
          "timestamp": 1552493606270
        }
      ],
      "toc_visible": true
    },
    "environment": {
      "name": "tf2-gpu.2-1.m47",
      "type": "gcloud",
      "uri": "gcr.io/deeplearning-platform-release/tf2-gpu.2-1:m47"
    },
    "kernelspec": {
      "display_name": "Python 3",
      "language": "python",
      "name": "python3"
    },
    "language_info": {
      "codemirror_mode": {
        "name": "ipython",
        "version": 3
      },
      "file_extension": ".py",
      "mimetype": "text/x-python",
      "name": "python",
      "nbconvert_exporter": "python",
      "pygments_lexer": "ipython3",
      "version": "3.7.6"
    }
  },
  "nbformat": 4,
  "nbformat_minor": 0
}
